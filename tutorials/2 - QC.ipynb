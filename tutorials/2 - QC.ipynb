{
 "cells": [
  {
   "cell_type": "code",
   "execution_count": null,
   "id": "5ed7cef2-9031-47e1-8d51-6191baba5cd2",
   "metadata": {},
   "outputs": [],
   "source": [
    "from illuminator.samples import Samples, read_samples\n",
    "from illuminator.utils import set_logger, load_object\n",
    "from illuminator.annotations import Channel, Annotations, ArrayType, GenomeVersion\n",
    "from illuminator.utils import set_logger\n",
    "from illuminator.quality_control import *\n",
    "\n",
    "import matplotlib.pyplot as plt\n",
    "import pandas as pd\n",
    "\n",
    "set_logger('WARNING')  # set the verbosity level, can be DEBUG, INFO, WARNING, ERROR"
   ]
  },
  {
   "cell_type": "markdown",
   "id": "a9ac2491-124b-4032-8a58-70b9613841c8",
   "metadata": {},
   "source": [
    "# 1 - Load illuminator Samples\n",
    "\n",
    "We assume you already processed the idat files to your liking and saved them. If not, please refer to notebook `1 - Read data and get betas` before going any further."
   ]
  },
  {
   "cell_type": "code",
   "execution_count": null,
   "id": "0170564a-0d57-4cd5-8c5e-5d779dd1bb78",
   "metadata": {},
   "outputs": [],
   "source": [
    "pp_samples = Samples.load('preprocessed_samples_min_2_beads')"
   ]
  },
  {
   "cell_type": "markdown",
   "id": "361773da-c388-4f3b-84de-f1a83e073b55",
   "metadata": {},
   "source": [
    "# 2 - Chose a sample and get QC"
   ]
  },
  {
   "cell_type": "code",
   "execution_count": null,
   "id": "00eb6ccd-4987-4d84-ae25-c8c010d512a4",
   "metadata": {},
   "outputs": [],
   "source": [
    "sample_name = 'Témoin 1.1'\n",
    "detection_stats(my_samples[sample_name])\n",
    "intensity_stats(my_samples[sample_name])\n",
    "nb_probes_stats(my_samples[sample_name])\n",
    "type1_color_channels_stats(my_samples[sample_name])\n",
    "dye_bias_stats(my_samples[sample_name])\n",
    "betas_stats(my_samples[sample_name])"
   ]
  },
  {
   "cell_type": "markdown",
   "id": "fc19e3c4-e208-4b65-a45a-e100bb3f1256",
   "metadata": {},
   "source": [
    "# 3 - Plot the number of beads per probes"
   ]
  },
  {
   "cell_type": "code",
   "execution_count": null,
   "id": "aad3e01b-35fe-46c0-9e9b-6ab72f3ed9d5",
   "metadata": {},
   "outputs": [],
   "source": [
    "plt.figure(figsize=(20, 14))\n",
    "count_beads = my_samples[sample_name].idata[Channel.RED].probes_df.groupby('n_beads').count()\n",
    "five_probes_min = count_beads[count_beads.mean_value > 5]\n",
    "max_more_than_five_probe = five_probes_min.index.max()\n",
    "plt.bar(five_probes_min.index, five_probes_min['std_dev'])"
   ]
  }
 ],
 "metadata": {
  "kernelspec": {
   "display_name": "Python 3 (ipykernel)",
   "language": "python",
   "name": "python3"
  },
  "language_info": {
   "codemirror_mode": {
    "name": "ipython",
    "version": 3
   },
   "file_extension": ".py",
   "mimetype": "text/x-python",
   "name": "python",
   "nbconvert_exporter": "python",
   "pygments_lexer": "ipython3",
   "version": "3.12.4"
  }
 },
 "nbformat": 4,
 "nbformat_minor": 5
}
