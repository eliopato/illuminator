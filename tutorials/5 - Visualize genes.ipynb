{
 "cells": [
  {
   "cell_type": "markdown",
   "id": "94299699-3b41-4149-a870-db571ffd944c",
   "metadata": {},
   "source": [
    "# 0 - Set up\n",
    "\n",
    "First, import the necessary packages from illuminator, and set the logger level to your convenience."
   ]
  },
  {
   "cell_type": "code",
   "execution_count": null,
   "id": "88be5cea-2412-41f3-bd2c-8447fb7616a7",
   "metadata": {},
   "outputs": [],
   "source": [
    "from illuminator.samples import Samples\n",
    "from illuminator.cnv import copy_number_variation\n",
    "from illuminator.utils import load_object, save_object, set_logger\n",
    "from illuminator.visualizations import visualize_gene\n",
    "\n",
    "set_logger('WARNING')  # set the verbosity level, can be DEBUG, INFO, WARNING, ERROR"
   ]
  },
  {
   "cell_type": "markdown",
   "id": "1370e2cc-bb01-40c4-828f-98df3dabc7f2",
   "metadata": {},
   "source": [
    "# 1 - Load illuminator Samples\n",
    "\n",
    "We assume you already processed the idat files to your liking and saved them. If not, please refer to notebook `1 - Read data and get betas` before going any further."
   ]
  },
  {
   "cell_type": "code",
   "execution_count": null,
   "id": "0988935f-7779-46e0-b546-145c0652bcdc",
   "metadata": {},
   "outputs": [],
   "source": [
    "pp_samples = Samples.load('preprocessed_samples_min_2_beads')"
   ]
  },
  {
   "cell_type": "markdown",
   "id": "5868c013-7901-46e1-8504-e9dc9c33590f",
   "metadata": {},
   "source": [
    "# 2 - Visualize a gene"
   ]
  },
  {
   "cell_type": "code",
   "execution_count": null,
   "id": "336ccc68-5994-455b-aeb0-d7eb5273c2c1",
   "metadata": {},
   "outputs": [],
   "source": [
    "visualize_gene(pp_samples, 'TUBA1C')"
   ]
  }
 ],
 "metadata": {
  "kernelspec": {
   "display_name": "Python 3 (ipykernel)",
   "language": "python",
   "name": "python3"
  },
  "language_info": {
   "codemirror_mode": {
    "name": "ipython",
    "version": 3
   },
   "file_extension": ".py",
   "mimetype": "text/x-python",
   "name": "python",
   "nbconvert_exporter": "python",
   "pygments_lexer": "ipython3",
   "version": "3.12.4"
  }
 },
 "nbformat": 4,
 "nbformat_minor": 5
}
