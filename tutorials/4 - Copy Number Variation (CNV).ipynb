{
 "cells": [
  {
   "cell_type": "markdown",
   "id": "94299699-3b41-4149-a870-db571ffd944c",
   "metadata": {},
   "source": [
    "# 0 - Set up\n",
    "\n",
    "First, import the necessary packages from illuminator, and set the logger level to your convenience."
   ]
  },
  {
   "cell_type": "code",
   "execution_count": null,
   "id": "88be5cea-2412-41f3-bd2c-8447fb7616a7",
   "metadata": {},
   "outputs": [],
   "source": [
    "from illuminator.samples import Samples\n",
    "from illuminator.cnv import copy_number_variation\n",
    "from illuminator.utils import load_object, save_object, set_logger\n",
    "from illuminator.visualizations import manhattan_plot_cnv\n",
    "\n",
    "set_logger('WARNING')  # set the verbosity level, can be DEBUG, INFO, WARNING, ERROR"
   ]
  },
  {
   "cell_type": "markdown",
   "id": "1370e2cc-bb01-40c4-828f-98df3dabc7f2",
   "metadata": {},
   "source": [
    "# 1 - Load illuminator Samples\n",
    "\n",
    "We assume you already processed the idat files to your liking and saved them. If not, please refer to notebook `1 - Read data and get betas` before going any further."
   ]
  },
  {
   "cell_type": "code",
   "execution_count": null,
   "id": "0988935f-7779-46e0-b546-145c0652bcdc",
   "metadata": {},
   "outputs": [],
   "source": [
    "pp_samples = Samples.load('preprocessed_samples_min_2_beads')"
   ]
  },
  {
   "cell_type": "code",
   "execution_count": null,
   "id": "f778ec15-7296-4b36-9158-6709f4f9e66a",
   "metadata": {},
   "outputs": [],
   "source": [
    "normalization_samples = pp_samples.sample_sheet[pp_samples.sample_sheet.fsh_status == 'sain'].sample_name.values\n",
    "normal_samples = [pp_samples[key] for key in normalization_samples if key in pp_samples.keys()]\n",
    "normal_samples"
   ]
  },
  {
   "cell_type": "markdown",
   "id": "5868c013-7901-46e1-8504-e9dc9c33590f",
   "metadata": {},
   "source": [
    "# 2 - Get CNV for a sample"
   ]
  },
  {
   "cell_type": "code",
   "execution_count": null,
   "id": "33992775-4ff4-41b3-8adc-749d93e01bc0",
   "metadata": {},
   "outputs": [],
   "source": [
    "name = '19495'  # sample name\n",
    "\n",
    "normalization_samples = pp_samples.sample_sheet[pp_samples.sample_sheet.fsh_status == 'sain'].sample_name.values\n",
    "\n",
    "ranges, signal_bins_df, segments_df = copy_number_variation(pp_samples, sample_name=name, normalization_samples_names=normalization_samples)\n",
    "\n",
    "# save results\n",
    "# save_object(ranges, f'ranges_{name}')\n",
    "# save_object(signal_bins_df, f'signal_bins_df_{name}')\n",
    "# save_object(segments_df, f'segments_df_{name}')\n",
    "\n",
    "# load results\n",
    "# ranges = load_object(f'ranges_{name}')\n",
    "# signal_bins_df = load_object(f'signal_bins_df_{name}')\n",
    "# segments_df = load_object(f'segments_df_{name}')"
   ]
  },
  {
   "cell_type": "markdown",
   "id": "819b8510-78ba-49f3-8d14-b91606f40b9a",
   "metadata": {},
   "source": [
    "Plot the identified segments and copy number variation values"
   ]
  },
  {
   "cell_type": "code",
   "execution_count": null,
   "id": "336ccc68-5994-455b-aeb0-d7eb5273c2c1",
   "metadata": {},
   "outputs": [],
   "source": [
    "manhattan_plot_cnv(signal_bins_df, segments_df)"
   ]
  }
 ],
 "metadata": {
  "kernelspec": {
   "display_name": "Python 3 (ipykernel)",
   "language": "python",
   "name": "python3"
  },
  "language_info": {
   "codemirror_mode": {
    "name": "ipython",
    "version": 3
   },
   "file_extension": ".py",
   "mimetype": "text/x-python",
   "name": "python",
   "nbconvert_exporter": "python",
   "pygments_lexer": "ipython3",
   "version": "3.12.4"
  }
 },
 "nbformat": 4,
 "nbformat_minor": 5
}
