{
 "cells": [
  {
   "cell_type": "markdown",
   "id": "c28a32e9-e5e7-4f17-8384-bd9e752b340e",
   "metadata": {},
   "source": [
    "# 0 - Set up\n",
    "\n",
    "First, import the necessary packages from illuminator, and set the logger level to your convenience."
   ]
  },
  {
   "cell_type": "code",
   "execution_count": null,
   "id": "58882ee2-6b75-4196-8bbc-b64ae36eee04",
   "metadata": {},
   "outputs": [],
   "source": [
    "from illuminator.samples import Samples\n",
    "from illuminator.visualizations import manhattan_plot_dmr, plot_dmp_heatmap\n",
    "from illuminator.dm import get_dmp, get_dmr\n",
    "from illuminator.utils import save_object, load_object\n",
    "\n",
    "from illuminator.utils import set_logger\n",
    "\n",
    "set_logger('INFO')  # set the verbosity level, can be DEBUG, INFO, WARNING, ERROR"
   ]
  },
  {
   "cell_type": "markdown",
   "id": "71bcd367-d86f-4f20-b19a-7f8d75e9d39f",
   "metadata": {},
   "source": [
    "# 1 - Load illuminator Samples\n",
    "\n",
    "We assume you already processed the idat files to your liking and saved them. If not, please refer to notebook `1 - Read data and get betas` before going any further."
   ]
  },
  {
   "cell_type": "code",
   "execution_count": null,
   "id": "ae0bd9d9-752f-40d7-b93c-0f41f709ba3d",
   "metadata": {},
   "outputs": [],
   "source": [
    "pp_samples = Samples.load('preprocessed_samples')\n",
    "sheet = pp_samples.sample_sheet"
   ]
  },
  {
   "cell_type": "markdown",
   "id": "433f4b97-cb16-47f9-b4af-215d2d7800dc",
   "metadata": {},
   "source": [
    "# 2 - Differentially Methylated Probes\n",
    "\n",
    "This assumes you already have the betas calculated (cf notebook 1 also). \n",
    "\n",
    "You can chose to keep probes with some NA values or not at the first step.\n",
    "\n",
    "The second parameter of get_dmp() is a R-like formula used in the design matrix to describe the statistical model, e.g. '~age + sex'. The names used must be column names of the sample sheet provided as the third parameter\n",
    "\n",
    "More info on  design matrices and formulas:\n",
    "- https://www.statsmodels.org/devel/gettingstarted.html\n",
    "- https://patsy.readthedocs.io/en/latest/overview.html\n"
   ]
  },
  {
   "cell_type": "code",
   "execution_count": null,
   "id": "8b468f1a-92ae-45bb-b0bc-aae79b54bca1",
   "metadata": {},
   "outputs": [],
   "source": [
    "betas = pp_samples.betas().dropna()\n",
    "dmps = get_dmp(betas, '~ fsh_status', sheet)\n",
    "# save_object(dmps, 'dmps_pp_no_na')\n",
    "# dmps = load_object('dmps_pp_no_na')"
   ]
  },
  {
   "cell_type": "markdown",
   "id": "43e4c278-f7f6-4d8e-a27e-83fafdc3eb57",
   "metadata": {},
   "source": [
    "You can now plot the result"
   ]
  },
  {
   "cell_type": "code",
   "execution_count": null,
   "id": "13381265-f0d1-4b9a-b964-c78d7bd6b21c",
   "metadata": {},
   "outputs": [],
   "source": [
    "plot_dmp_heatmap(dmps, pp_samples.betas())"
   ]
  },
  {
   "cell_type": "markdown",
   "id": "e48af4ef-e130-462f-b758-8758fa758d73",
   "metadata": {},
   "source": [
    "# 3 - Differentially Methylated Regions"
   ]
  },
  {
   "cell_type": "code",
   "execution_count": null,
   "id": "c2bcc0e8-70bc-44bb-9ec0-bb8e5fc25336",
   "metadata": {},
   "outputs": [],
   "source": [
    "dmrs = get_dmr(betas, pp_samples.annotation, dmps)\n",
    "# save_object(dmrs, 'dmrs_pp_no_na')\n",
    "# dmrs = load_object('dmrs_pp_no_na')"
   ]
  },
  {
   "cell_type": "code",
   "execution_count": null,
   "id": "a4db8026-e88e-4436-a095-ed28972de457",
   "metadata": {},
   "outputs": [],
   "source": [
    "manhattan_plot_dmr(dmrs)\n",
    "# manhattan_plot_dmr(dmrs, annotation=pp_samples.annotation, medium_threshold=1e-12, high_threshold=1e-14)"
   ]
  }
 ],
 "metadata": {
  "kernelspec": {
   "display_name": "Python 3 (ipykernel)",
   "language": "python",
   "name": "python3"
  },
  "language_info": {
   "codemirror_mode": {
    "name": "ipython",
    "version": 3
   },
   "file_extension": ".py",
   "mimetype": "text/x-python",
   "name": "python",
   "nbconvert_exporter": "python",
   "pygments_lexer": "ipython3",
   "version": "3.12.4"
  }
 },
 "nbformat": 4,
 "nbformat_minor": 5
}
