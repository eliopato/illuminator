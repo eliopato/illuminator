{
 "cells": [
  {
   "cell_type": "markdown",
   "id": "365d40b9-557e-41b5-8afc-c89154c3dacc",
   "metadata": {},
   "source": [
    "# 0 - Set up\n",
    "\n",
    "First, import the necessary packages from illuminator, and set the logger level to your convenience."
   ]
  },
  {
   "cell_type": "code",
   "execution_count": null,
   "id": "39701715-251b-4290-8c4d-7c1d0632d6a7",
   "metadata": {},
   "outputs": [],
   "source": [
    "from illuminator.annotations import Annotations, ArrayType, GenomeVersion\n",
    "from illuminator.samples import Samples, read_samples\n",
    "from illuminator.visualizations import plot_betas, betas_dendrogram, betas_mds\n",
    "from illuminator.utils import set_logger\n",
    "\n",
    "set_logger('INFO')  # set the verbosity level, can be DEBUG, INFO, WARNING, ERROR"
   ]
  },
  {
   "cell_type": "markdown",
   "id": "60f1c60c-ee6c-4d20-8bcc-13797f01703a",
   "metadata": {},
   "source": [
    "# 1 - Read .idat files"
   ]
  },
  {
   "cell_type": "markdown",
   "id": "b47ce9d8-162f-444e-95d9-ad58e99b0c72",
   "metadata": {},
   "source": [
    "### 1.1 - Define and read annotation\n",
    "First, define the array type of your data, and the genome version, to read the associated information files (manifest, masks, genome information...)"
   ]
  },
  {
   "cell_type": "code",
   "execution_count": null,
   "id": "24073c9e-ee40-491e-bc00-66c4256eb4f8",
   "metadata": {},
   "outputs": [],
   "source": [
    "# define those parameters to match your data\n",
    "array_type = ArrayType.HUMAN_EPIC_V2\n",
    "genome_version = GenomeVersion.HG38\n",
    "\n",
    "# read annotation\n",
    "annos = Annotations(ArrayType.HUMAN_EPIC_V2, GenomeVersion.HG38)"
   ]
  },
  {
   "cell_type": "markdown",
   "id": "c899b36b-d0f8-4188-b278-ede0fa452dab",
   "metadata": {},
   "source": [
    "### 1.2 - Read samples .idat\n",
    "\n",
    "Now set the paths to your data, and to the sample sheet if you have one. Uncomment the version you want to use.\n",
    "\n",
    "For more parameters and information, run `read_samples?`"
   ]
  },
  {
   "cell_type": "code",
   "execution_count": null,
   "id": "a59984be-fd86-4ecd-b4e6-5411ee905442",
   "metadata": {},
   "outputs": [],
   "source": [
    "# path to the folder containing the .idat files (they can be in sub-folders, this is the root directory)\n",
    "datadir = '/home/elsa/Documents/data/methylation/EPIC/full methylome FSHD'\n",
    "\n",
    "# Option 1 : no sample sheet provided : it will be rendered automatically\n",
    "# my_samples = read_samples(datadir, annotation=annos)  \n",
    "\n",
    "# Option 2 : with sample sheet name - works if the sample sheet is in the root directory\n",
    "sample_sheet_name = 'samplesheet.csv'\n",
    "my_samples = read_samples(datadir, sample_sheet_name=sample_sheet_name, annotation=annos)  \n",
    "\n",
    "# Option 3 : with sample sheet path - if the sample sheet is located elsewhere\n",
    "# sample_sheet_path = '/home/user/Documents/samplesheet.csv'\n",
    "# my_samples = read_samples(datadir, sample_sheet_path=sample_sheet_path, annotation=annos)  "
   ]
  },
  {
   "cell_type": "markdown",
   "id": "8ccb2305-df16-4322-b918-55ac29e832a3",
   "metadata": {},
   "source": [
    "### 1.3 - Save illuminator samples (optional)\n",
    "\n",
    "As reading lots of samples can take a couple of minutes, you might want to save the Samples object to a file for later use. Here is how."
   ]
  },
  {
   "cell_type": "code",
   "execution_count": null,
   "id": "e57702cf-a320-48fe-bf7f-a4b5b2389742",
   "metadata": {},
   "outputs": [],
   "source": [
    "my_samples.save('raw_samples')"
   ]
  },
  {
   "cell_type": "markdown",
   "id": "cef67772-8d34-4d70-b155-6d57a1f57489",
   "metadata": {},
   "source": [
    "### 1.4 - Load illuminator samples (optional)\n",
    "\n",
    "Now for later use, here is how to load samples :"
   ]
  },
  {
   "cell_type": "code",
   "execution_count": null,
   "id": "4b3b3681-1593-4762-82d1-e4587bea232a",
   "metadata": {},
   "outputs": [],
   "source": [
    "my_samples = Samples.load('raw_samples')"
   ]
  },
  {
   "cell_type": "markdown",
   "id": "aa74608f-82f3-4bc9-b912-21c0e7a63eb3",
   "metadata": {},
   "source": [
    "# 2 - Calculate and Plot Beta values\n",
    "\n",
    "Once your samples are loaded, you can already calculate and plot the beta values of the raw data :"
   ]
  },
  {
   "cell_type": "code",
   "execution_count": null,
   "id": "ee643cd7-4d10-43a1-b77c-3b89d6d9cf19",
   "metadata": {},
   "outputs": [],
   "source": [
    "my_samples.calculate_betas()\n",
    "plot_betas(my_samples)"
   ]
  },
  {
   "cell_type": "markdown",
   "id": "85ed3eb8-9b22-4719-bb88-041bda1b806a",
   "metadata": {},
   "source": [
    "# 3 - Preprocessing\n",
    "\n",
    "Here is the usual preprocessing pipeline for human samples. Note that each step modifies the Samples object directly, so it's useful to save the raw samples first (step 1.3) if you want to try different preprocessing methods."
   ]
  },
  {
   "cell_type": "code",
   "execution_count": null,
   "id": "1222bedc-2125-489a-80fa-a4a813e38363",
   "metadata": {},
   "outputs": [],
   "source": [
    "my_samples.apply_quality_mask()\n",
    "my_samples.infer_type1_channel()\n",
    "my_samples.dye_bias_correction_nl()\n",
    "my_samples.poobah()\n",
    "my_samples.noob_background_correction()\n",
    "my_samples.calculate_betas()\n",
    "# my_samples.save('preprocessed_samples')  "
   ]
  },
  {
   "cell_type": "markdown",
   "id": "70fe6a34-4603-4b65-8b39-a9451d988795",
   "metadata": {},
   "source": [
    "Now let's see what preprocessing changed in our beta values !"
   ]
  },
  {
   "cell_type": "code",
   "execution_count": null,
   "id": "f96de58b-be13-430e-bb6d-62a3494132ca",
   "metadata": {},
   "outputs": [],
   "source": [
    "my_samples.calculate_betas()\n",
    "plot_betas(my_samples)"
   ]
  },
  {
   "cell_type": "markdown",
   "id": "9597af72-0a29-41fc-8ebc-20e9775aa800",
   "metadata": {},
   "source": [
    "# 4 - Data insights"
   ]
  },
  {
   "cell_type": "code",
   "execution_count": null,
   "id": "4d9d7650-9555-41b7-948d-378bd1cb6648",
   "metadata": {},
   "outputs": [],
   "source": [
    "betas_mds(my_samples)"
   ]
  },
  {
   "cell_type": "code",
   "execution_count": null,
   "id": "3dd1764c-956f-4c5f-b06f-26fe517895e4",
   "metadata": {},
   "outputs": [],
   "source": [
    "betas_dendrogram(my_samples.betas())"
   ]
  }
 ],
 "metadata": {
  "kernelspec": {
   "display_name": "Python 3 (ipykernel)",
   "language": "python",
   "name": "python3"
  },
  "language_info": {
   "codemirror_mode": {
    "name": "ipython",
    "version": 3
   },
   "file_extension": ".py",
   "mimetype": "text/x-python",
   "name": "python",
   "nbconvert_exporter": "python",
   "pygments_lexer": "ipython3",
   "version": "3.12.4"
  }
 },
 "nbformat": 4,
 "nbformat_minor": 5
}
